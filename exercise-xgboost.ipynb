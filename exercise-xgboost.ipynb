{
 "cells": [
  {
   "cell_type": "markdown",
   "id": "2f7c4432",
   "metadata": {
    "papermill": {
     "duration": 0.006098,
     "end_time": "2022-08-13T21:47:07.782703",
     "exception": false,
     "start_time": "2022-08-13T21:47:07.776605",
     "status": "completed"
    },
    "tags": []
   },
   "source": [
    "**This notebook is an exercise in the [Intermediate Machine Learning](https://www.kaggle.com/learn/intermediate-machine-learning) course.  You can reference the tutorial at [this link](https://www.kaggle.com/alexisbcook/xgboost).**\n",
    "\n",
    "---\n"
   ]
  },
  {
   "cell_type": "markdown",
   "id": "8cc38a2b",
   "metadata": {
    "papermill": {
     "duration": 0.004826,
     "end_time": "2022-08-13T21:47:07.792484",
     "exception": false,
     "start_time": "2022-08-13T21:47:07.787658",
     "status": "completed"
    },
    "tags": []
   },
   "source": [
    "In this exercise, you will use your new knowledge to train a model with **gradient boosting**.\n",
    "\n",
    "# Setup\n",
    "\n",
    "The questions below will give you feedback on your work. Run the following cell to set up the feedback system."
   ]
  },
  {
   "cell_type": "code",
   "execution_count": 1,
   "id": "05ba5d2f",
   "metadata": {
    "execution": {
     "iopub.execute_input": "2022-08-13T21:47:07.805060Z",
     "iopub.status.busy": "2022-08-13T21:47:07.804079Z",
     "iopub.status.idle": "2022-08-13T21:47:10.469912Z",
     "shell.execute_reply": "2022-08-13T21:47:10.468332Z"
    },
    "papermill": {
     "duration": 2.675558,
     "end_time": "2022-08-13T21:47:10.473039",
     "exception": false,
     "start_time": "2022-08-13T21:47:07.797481",
     "status": "completed"
    },
    "tags": []
   },
   "outputs": [
    {
     "name": "stdout",
     "output_type": "stream",
     "text": [
      "Setup Complete\n"
     ]
    }
   ],
   "source": [
    "# Set up code checking\n",
    "import os\n",
    "if not os.path.exists(\"../input/train.csv\"):\n",
    "    os.symlink(\"../input/home-data-for-ml-course/train.csv\", \"../input/train.csv\")  \n",
    "    os.symlink(\"../input/home-data-for-ml-course/test.csv\", \"../input/test.csv\") \n",
    "from learntools.core import binder\n",
    "binder.bind(globals())\n",
    "from learntools.ml_intermediate.ex6 import *\n",
    "print(\"Setup Complete\")"
   ]
  },
  {
   "cell_type": "markdown",
   "id": "ee3e68f7",
   "metadata": {
    "papermill": {
     "duration": 0.004733,
     "end_time": "2022-08-13T21:47:10.483677",
     "exception": false,
     "start_time": "2022-08-13T21:47:10.478944",
     "status": "completed"
    },
    "tags": []
   },
   "source": [
    "You will work with the [Housing Prices Competition for Kaggle Learn Users](https://www.kaggle.com/c/home-data-for-ml-course) dataset from the previous exercise. \n",
    "\n",
    "![Ames Housing dataset image](https://i.imgur.com/lTJVG4e.png)\n",
    "\n",
    "Run the next code cell without changes to load the training and validation sets in `X_train`, `X_valid`, `y_train`, and `y_valid`.  The test set is loaded in `X_test`."
   ]
  },
  {
   "cell_type": "code",
   "execution_count": 2,
   "id": "09464ac4",
   "metadata": {
    "execution": {
     "iopub.execute_input": "2022-08-13T21:47:10.495323Z",
     "iopub.status.busy": "2022-08-13T21:47:10.494428Z",
     "iopub.status.idle": "2022-08-13T21:47:10.681712Z",
     "shell.execute_reply": "2022-08-13T21:47:10.680491Z"
    },
    "papermill": {
     "duration": 0.196169,
     "end_time": "2022-08-13T21:47:10.684596",
     "exception": false,
     "start_time": "2022-08-13T21:47:10.488427",
     "status": "completed"
    },
    "tags": []
   },
   "outputs": [],
   "source": [
    "import pandas as pd\n",
    "from sklearn.model_selection import train_test_split\n",
    "\n",
    "# Read the data\n",
    "X = pd.read_csv('../input/train.csv', index_col='Id')\n",
    "X_test_full = pd.read_csv('../input/test.csv', index_col='Id')\n",
    "\n",
    "# Remove rows with missing target, separate target from predictors\n",
    "X.dropna(axis=0, subset=['SalePrice'], inplace=True)\n",
    "y = X.SalePrice              \n",
    "X.drop(['SalePrice'], axis=1, inplace=True)\n",
    "\n",
    "# Break off validation set from training data\n",
    "X_train_full, X_valid_full, y_train, y_valid = train_test_split(X, y, train_size=0.8, test_size=0.2,\n",
    "                                                                random_state=0)\n",
    "\n",
    "# \"Cardinality\" means the number of unique values in a column\n",
    "# Select categorical columns with relatively low cardinality (convenient but arbitrary)\n",
    "low_cardinality_cols = [cname for cname in X_train_full.columns if X_train_full[cname].nunique() < 10 and \n",
    "                        X_train_full[cname].dtype == \"object\"]\n",
    "\n",
    "# Select numeric columns\n",
    "numeric_cols = [cname for cname in X_train_full.columns if X_train_full[cname].dtype in ['int64', 'float64']]\n",
    "\n",
    "# Keep selected columns only\n",
    "my_cols = low_cardinality_cols + numeric_cols\n",
    "X_train = X_train_full[my_cols].copy()\n",
    "X_valid = X_valid_full[my_cols].copy()\n",
    "X_test = X_test_full[my_cols].copy()\n",
    "\n",
    "# One-hot encode the data (to shorten the code, we use pandas)\n",
    "X_train = pd.get_dummies(X_train)\n",
    "X_valid = pd.get_dummies(X_valid)\n",
    "X_test = pd.get_dummies(X_test)\n",
    "X_train, X_valid = X_train.align(X_valid, join='left', axis=1)\n",
    "X_train, X_test = X_train.align(X_test, join='left', axis=1)"
   ]
  },
  {
   "cell_type": "markdown",
   "id": "d803d5ca",
   "metadata": {
    "papermill": {
     "duration": 0.004769,
     "end_time": "2022-08-13T21:47:10.694425",
     "exception": false,
     "start_time": "2022-08-13T21:47:10.689656",
     "status": "completed"
    },
    "tags": []
   },
   "source": [
    "# Step 1: Build model\n",
    "\n",
    "### Part A\n",
    "\n",
    "In this step, you'll build and train your first model with gradient boosting.\n",
    "\n",
    "- Begin by setting `my_model_1` to an XGBoost model.  Use the [XGBRegressor](https://xgboost.readthedocs.io/en/latest/python/python_api.html#xgboost.XGBRegressor) class, and set the random seed to 0 (`random_state=0`).  **Leave all other parameters as default.**\n",
    "- Then, fit the model to the training data in `X_train` and `y_train`."
   ]
  },
  {
   "cell_type": "code",
   "execution_count": 3,
   "id": "c4c80548",
   "metadata": {
    "execution": {
     "iopub.execute_input": "2022-08-13T21:47:10.706062Z",
     "iopub.status.busy": "2022-08-13T21:47:10.705320Z",
     "iopub.status.idle": "2022-08-13T21:47:11.752877Z",
     "shell.execute_reply": "2022-08-13T21:47:11.752180Z"
    },
    "papermill": {
     "duration": 1.05554,
     "end_time": "2022-08-13T21:47:11.754774",
     "exception": false,
     "start_time": "2022-08-13T21:47:10.699234",
     "status": "completed"
    },
    "tags": []
   },
   "outputs": [
    {
     "data": {
      "application/javascript": [
       "parent.postMessage({\"jupyterEvent\": \"custom.exercise_interaction\", \"data\": {\"outcomeType\": 1, \"valueTowardsCompletion\": 0.5, \"interactionType\": 1, \"questionType\": 2, \"questionId\": \"1.1_Model1A\", \"learnToolsVersion\": \"0.3.4\", \"failureMessage\": \"\", \"exceptionClass\": \"\", \"trace\": \"\"}}, \"*\")"
      ],
      "text/plain": [
       "<IPython.core.display.Javascript object>"
      ]
     },
     "metadata": {},
     "output_type": "display_data"
    },
    {
     "data": {
      "text/markdown": [
       "<span style=\"color:#33cc33\">Correct</span>"
      ],
      "text/plain": [
       "Correct"
      ]
     },
     "metadata": {},
     "output_type": "display_data"
    }
   ],
   "source": [
    "from xgboost import XGBRegressor\n",
    "\n",
    "# Define the model\n",
    "my_model_1 = XGBRegressor(random_state=0)  # Your code here\n",
    "\n",
    "# Fit the model\n",
    "my_model_1.fit(X_train, y_train)  # Your code here\n",
    "\n",
    "# Check your answer\n",
    "step_1.a.check()"
   ]
  },
  {
   "cell_type": "code",
   "execution_count": 4,
   "id": "31861c5f",
   "metadata": {
    "execution": {
     "iopub.execute_input": "2022-08-13T21:47:11.768664Z",
     "iopub.status.busy": "2022-08-13T21:47:11.766442Z",
     "iopub.status.idle": "2022-08-13T21:47:11.772182Z",
     "shell.execute_reply": "2022-08-13T21:47:11.771406Z"
    },
    "papermill": {
     "duration": 0.01432,
     "end_time": "2022-08-13T21:47:11.774372",
     "exception": false,
     "start_time": "2022-08-13T21:47:11.760052",
     "status": "completed"
    },
    "tags": []
   },
   "outputs": [],
   "source": [
    "# Lines below will give you a hint or solution code\n",
    "#step_1.a.hint()\n",
    "#step_1.a.solution()"
   ]
  },
  {
   "cell_type": "markdown",
   "id": "679ffb37",
   "metadata": {
    "papermill": {
     "duration": 0.004876,
     "end_time": "2022-08-13T21:47:11.784433",
     "exception": false,
     "start_time": "2022-08-13T21:47:11.779557",
     "status": "completed"
    },
    "tags": []
   },
   "source": [
    "### Part B\n",
    "\n",
    "Set `predictions_1` to the model's predictions for the validation data.  Recall that the validation features are stored in `X_valid`."
   ]
  },
  {
   "cell_type": "code",
   "execution_count": 5,
   "id": "3b1dae73",
   "metadata": {
    "execution": {
     "iopub.execute_input": "2022-08-13T21:47:11.796496Z",
     "iopub.status.busy": "2022-08-13T21:47:11.795669Z",
     "iopub.status.idle": "2022-08-13T21:47:11.819061Z",
     "shell.execute_reply": "2022-08-13T21:47:11.818067Z"
    },
    "papermill": {
     "duration": 0.032436,
     "end_time": "2022-08-13T21:47:11.821879",
     "exception": false,
     "start_time": "2022-08-13T21:47:11.789443",
     "status": "completed"
    },
    "tags": []
   },
   "outputs": [
    {
     "data": {
      "application/javascript": [
       "parent.postMessage({\"jupyterEvent\": \"custom.exercise_interaction\", \"data\": {\"outcomeType\": 1, \"valueTowardsCompletion\": 0.5, \"interactionType\": 1, \"questionType\": 2, \"questionId\": \"1.2_Model1B\", \"learnToolsVersion\": \"0.3.4\", \"failureMessage\": \"\", \"exceptionClass\": \"\", \"trace\": \"\"}}, \"*\")"
      ],
      "text/plain": [
       "<IPython.core.display.Javascript object>"
      ]
     },
     "metadata": {},
     "output_type": "display_data"
    },
    {
     "data": {
      "text/markdown": [
       "<span style=\"color:#33cc33\">Correct</span>"
      ],
      "text/plain": [
       "Correct"
      ]
     },
     "metadata": {},
     "output_type": "display_data"
    }
   ],
   "source": [
    "from sklearn.metrics import mean_absolute_error\n",
    "\n",
    "# Get predictions\n",
    "predictions_1 = my_model_1.predict(X_valid) # Your code here\n",
    "\n",
    "# Check your answer\n",
    "step_1.b.check()"
   ]
  },
  {
   "cell_type": "code",
   "execution_count": 6,
   "id": "958facbc",
   "metadata": {
    "execution": {
     "iopub.execute_input": "2022-08-13T21:47:11.835752Z",
     "iopub.status.busy": "2022-08-13T21:47:11.835379Z",
     "iopub.status.idle": "2022-08-13T21:47:11.839655Z",
     "shell.execute_reply": "2022-08-13T21:47:11.838481Z"
    },
    "papermill": {
     "duration": 0.013187,
     "end_time": "2022-08-13T21:47:11.841789",
     "exception": false,
     "start_time": "2022-08-13T21:47:11.828602",
     "status": "completed"
    },
    "tags": []
   },
   "outputs": [],
   "source": [
    "# Lines below will give you a hint or solution code\n",
    "#step_1.b.hint()\n",
    "#step_1.b.solution()"
   ]
  },
  {
   "cell_type": "markdown",
   "id": "17dec383",
   "metadata": {
    "papermill": {
     "duration": 0.005104,
     "end_time": "2022-08-13T21:47:11.852501",
     "exception": false,
     "start_time": "2022-08-13T21:47:11.847397",
     "status": "completed"
    },
    "tags": []
   },
   "source": [
    "### Part C\n",
    "\n",
    "Finally, use the `mean_absolute_error()` function to calculate the mean absolute error (MAE) corresponding to the predictions for the validation set.  Recall that the labels for the validation data are stored in `y_valid`."
   ]
  },
  {
   "cell_type": "code",
   "execution_count": 7,
   "id": "81df328a",
   "metadata": {
    "execution": {
     "iopub.execute_input": "2022-08-13T21:47:11.864795Z",
     "iopub.status.busy": "2022-08-13T21:47:11.864421Z",
     "iopub.status.idle": "2022-08-13T21:47:11.875605Z",
     "shell.execute_reply": "2022-08-13T21:47:11.874024Z"
    },
    "papermill": {
     "duration": 0.020199,
     "end_time": "2022-08-13T21:47:11.877952",
     "exception": false,
     "start_time": "2022-08-13T21:47:11.857753",
     "status": "completed"
    },
    "tags": []
   },
   "outputs": [
    {
     "name": "stdout",
     "output_type": "stream",
     "text": [
      "Mean Absolute Error: 17662.736729452055\n"
     ]
    },
    {
     "data": {
      "application/javascript": [
       "parent.postMessage({\"jupyterEvent\": \"custom.exercise_interaction\", \"data\": {\"outcomeType\": 1, \"valueTowardsCompletion\": 0.5, \"interactionType\": 1, \"questionType\": 2, \"questionId\": \"1.3_Model1C\", \"learnToolsVersion\": \"0.3.4\", \"failureMessage\": \"\", \"exceptionClass\": \"\", \"trace\": \"\"}}, \"*\")"
      ],
      "text/plain": [
       "<IPython.core.display.Javascript object>"
      ]
     },
     "metadata": {},
     "output_type": "display_data"
    },
    {
     "data": {
      "text/markdown": [
       "<span style=\"color:#33cc33\">Correct</span>"
      ],
      "text/plain": [
       "Correct"
      ]
     },
     "metadata": {},
     "output_type": "display_data"
    }
   ],
   "source": [
    "# Calculate MAE\n",
    "mae_1 = mean_absolute_error(predictions_1, y_valid) # Your code here\n",
    "\n",
    "# Uncomment to print MAE\n",
    "print(\"Mean Absolute Error:\" , mae_1)\n",
    "\n",
    "# Check your answer\n",
    "step_1.c.check()"
   ]
  },
  {
   "cell_type": "code",
   "execution_count": 8,
   "id": "20db580e",
   "metadata": {
    "execution": {
     "iopub.execute_input": "2022-08-13T21:47:11.891628Z",
     "iopub.status.busy": "2022-08-13T21:47:11.890854Z",
     "iopub.status.idle": "2022-08-13T21:47:11.895282Z",
     "shell.execute_reply": "2022-08-13T21:47:11.894207Z"
    },
    "papermill": {
     "duration": 0.013694,
     "end_time": "2022-08-13T21:47:11.897592",
     "exception": false,
     "start_time": "2022-08-13T21:47:11.883898",
     "status": "completed"
    },
    "tags": []
   },
   "outputs": [],
   "source": [
    "# Lines below will give you a hint or solution code\n",
    "#step_1.c.hint()\n",
    "#step_1.c.solution()"
   ]
  },
  {
   "cell_type": "markdown",
   "id": "24050432",
   "metadata": {
    "papermill": {
     "duration": 0.005518,
     "end_time": "2022-08-13T21:47:11.909270",
     "exception": false,
     "start_time": "2022-08-13T21:47:11.903752",
     "status": "completed"
    },
    "tags": []
   },
   "source": [
    "# Step 2: Improve the model\n",
    "\n",
    "Now that you've trained a default model as baseline, it's time to tinker with the parameters, to see if you can get better performance!\n",
    "- Begin by setting `my_model_2` to an XGBoost model, using the [XGBRegressor](https://xgboost.readthedocs.io/en/latest/python/python_api.html#xgboost.XGBRegressor) class.  Use what you learned in the previous tutorial to figure out how to change the default parameters (like `n_estimators` and `learning_rate`) to get better results.\n",
    "- Then, fit the model to the training data in `X_train` and `y_train`.\n",
    "- Set `predictions_2` to the model's predictions for the validation data.  Recall that the validation features are stored in `X_valid`.\n",
    "- Finally, use the `mean_absolute_error()` function to calculate the mean absolute error (MAE) corresponding to the predictions on the validation set.  Recall that the labels for the validation data are stored in `y_valid`.\n",
    "\n",
    "In order for this step to be marked correct, your model in `my_model_2` must attain lower MAE than the model in `my_model_1`. "
   ]
  },
  {
   "cell_type": "code",
   "execution_count": 9,
   "id": "6d201c89",
   "metadata": {
    "execution": {
     "iopub.execute_input": "2022-08-13T21:47:11.923438Z",
     "iopub.status.busy": "2022-08-13T21:47:11.922681Z",
     "iopub.status.idle": "2022-08-13T21:47:21.020881Z",
     "shell.execute_reply": "2022-08-13T21:47:21.019869Z"
    },
    "papermill": {
     "duration": 9.108451,
     "end_time": "2022-08-13T21:47:21.023500",
     "exception": false,
     "start_time": "2022-08-13T21:47:11.915049",
     "status": "completed"
    },
    "tags": []
   },
   "outputs": [
    {
     "name": "stdout",
     "output_type": "stream",
     "text": [
      "Mean Absolute Error: 16688.691513270547\n"
     ]
    },
    {
     "data": {
      "application/javascript": [
       "parent.postMessage({\"jupyterEvent\": \"custom.exercise_interaction\", \"data\": {\"outcomeType\": 1, \"valueTowardsCompletion\": 0.5, \"interactionType\": 1, \"questionType\": 2, \"questionId\": \"2_Model2\", \"learnToolsVersion\": \"0.3.4\", \"failureMessage\": \"\", \"exceptionClass\": \"\", \"trace\": \"\"}}, \"*\")"
      ],
      "text/plain": [
       "<IPython.core.display.Javascript object>"
      ]
     },
     "metadata": {},
     "output_type": "display_data"
    },
    {
     "data": {
      "text/markdown": [
       "<span style=\"color:#33cc33\">Correct</span>"
      ],
      "text/plain": [
       "Correct"
      ]
     },
     "metadata": {},
     "output_type": "display_data"
    }
   ],
   "source": [
    "# Define the model\n",
    "my_model_2 = XGBRegressor(n_estimators=1000, learning_rate=0.05)   # Your code here\n",
    "\n",
    "# Fit the model\n",
    "my_model_2.fit(X_train, y_train)   # Your code here\n",
    "\n",
    "# Get predictions\n",
    "predictions_2 = my_model_2.predict(X_valid)   # Your code here\n",
    "\n",
    "# Calculate MAE\n",
    "mae_2 = mean_absolute_error(predictions_2, y_valid)   # Your code here\n",
    "\n",
    "# Uncomment to print MAE\n",
    "print(\"Mean Absolute Error:\" , mae_2)\n",
    "\n",
    "# Check your answer\n",
    "step_2.check()"
   ]
  },
  {
   "cell_type": "code",
   "execution_count": 10,
   "id": "f01f9c34",
   "metadata": {
    "execution": {
     "iopub.execute_input": "2022-08-13T21:47:21.038236Z",
     "iopub.status.busy": "2022-08-13T21:47:21.037334Z",
     "iopub.status.idle": "2022-08-13T21:47:21.041480Z",
     "shell.execute_reply": "2022-08-13T21:47:21.040573Z"
    },
    "papermill": {
     "duration": 0.013738,
     "end_time": "2022-08-13T21:47:21.043992",
     "exception": false,
     "start_time": "2022-08-13T21:47:21.030254",
     "status": "completed"
    },
    "tags": []
   },
   "outputs": [],
   "source": [
    "# Lines below will give you a hint or solution code\n",
    "#step_2.hint()\n",
    "#step_2.solution()"
   ]
  },
  {
   "cell_type": "markdown",
   "id": "a2ec7ad5",
   "metadata": {
    "papermill": {
     "duration": 0.005838,
     "end_time": "2022-08-13T21:47:21.055864",
     "exception": false,
     "start_time": "2022-08-13T21:47:21.050026",
     "status": "completed"
    },
    "tags": []
   },
   "source": [
    "# Step 3: Break the model\n",
    "\n",
    "In this step, you will create a model that performs worse than the original model in Step 1.  This will help you to develop your intuition for how to set parameters.  You might even find that you accidentally get better performance, which is ultimately a nice problem to have and a valuable learning experience!\n",
    "- Begin by setting `my_model_3` to an XGBoost model, using the [XGBRegressor](https://xgboost.readthedocs.io/en/latest/python/python_api.html#xgboost.XGBRegressor) class.  Use what you learned in the previous tutorial to figure out how to change the default parameters (like `n_estimators` and `learning_rate`) to design a model to get high MAE.\n",
    "- Then, fit the model to the training data in `X_train` and `y_train`.\n",
    "- Set `predictions_3` to the model's predictions for the validation data.  Recall that the validation features are stored in `X_valid`.\n",
    "- Finally, use the `mean_absolute_error()` function to calculate the mean absolute error (MAE) corresponding to the predictions on the validation set.  Recall that the labels for the validation data are stored in `y_valid`.\n",
    "\n",
    "In order for this step to be marked correct, your model in `my_model_3` must attain higher MAE than the model in `my_model_1`. "
   ]
  },
  {
   "cell_type": "code",
   "execution_count": 11,
   "id": "78dec5e5",
   "metadata": {
    "execution": {
     "iopub.execute_input": "2022-08-13T21:47:21.070052Z",
     "iopub.status.busy": "2022-08-13T21:47:21.069399Z",
     "iopub.status.idle": "2022-08-13T21:47:21.119924Z",
     "shell.execute_reply": "2022-08-13T21:47:21.118898Z"
    },
    "papermill": {
     "duration": 0.060328,
     "end_time": "2022-08-13T21:47:21.122337",
     "exception": false,
     "start_time": "2022-08-13T21:47:21.062009",
     "status": "completed"
    },
    "tags": []
   },
   "outputs": [
    {
     "data": {
      "application/javascript": [
       "parent.postMessage({\"jupyterEvent\": \"custom.exercise_interaction\", \"data\": {\"outcomeType\": 4, \"interactionType\": 1, \"questionType\": 2, \"questionId\": \"3_Model3\", \"learnToolsVersion\": \"0.3.4\", \"valueTowardsCompletion\": 0.0, \"failureMessage\": \"\", \"exceptionClass\": \"\", \"trace\": \"\"}}, \"*\")"
      ],
      "text/plain": [
       "<IPython.core.display.Javascript object>"
      ]
     },
     "metadata": {},
     "output_type": "display_data"
    },
    {
     "data": {
      "text/markdown": [
       "<span style=\"color:#ccaa33\">Check:</span> When you've updated the starter code, `check()` will tell you whether your code is correct. You need to update the code that creates variables `my_model_3`, `predictions_3`, `mae_3`"
      ],
      "text/plain": [
       "Check: When you've updated the starter code, `check()` will tell you whether your code is correct. You need to update the code that creates variables `my_model_3`, `predictions_3`, `mae_3`"
      ]
     },
     "metadata": {},
     "output_type": "display_data"
    }
   ],
   "source": [
    "# Define the model\n",
    "my_model_3 = XGBRegressor(n_estimators=1)\n",
    "\n",
    "# Fit the model\n",
    "my_model_3.fit(X_train, y_train) # Your code here\n",
    "\n",
    "# Get predictions\n",
    "predictions_3 = ____\n",
    "\n",
    "# Calculate MAE\n",
    "mae_3 = ____\n",
    "\n",
    "# Uncomment to print MAE\n",
    "# print(\"Mean Absolute Error:\" , mae_3)\n",
    "\n",
    "# Check your answer\n",
    "step_3.check()"
   ]
  },
  {
   "cell_type": "code",
   "execution_count": 12,
   "id": "c7095eae",
   "metadata": {
    "execution": {
     "iopub.execute_input": "2022-08-13T21:47:21.138252Z",
     "iopub.status.busy": "2022-08-13T21:47:21.137537Z",
     "iopub.status.idle": "2022-08-13T21:47:21.141456Z",
     "shell.execute_reply": "2022-08-13T21:47:21.140510Z"
    },
    "papermill": {
     "duration": 0.013831,
     "end_time": "2022-08-13T21:47:21.143684",
     "exception": false,
     "start_time": "2022-08-13T21:47:21.129853",
     "status": "completed"
    },
    "tags": []
   },
   "outputs": [],
   "source": [
    "# Lines below will give you a hint or solution code\n",
    "#step_3.hint()\n",
    "#step_3.solution()"
   ]
  },
  {
   "cell_type": "markdown",
   "id": "65ff6c01",
   "metadata": {
    "papermill": {
     "duration": 0.006065,
     "end_time": "2022-08-13T21:47:21.156326",
     "exception": false,
     "start_time": "2022-08-13T21:47:21.150261",
     "status": "completed"
    },
    "tags": []
   },
   "source": [
    "# Keep going\n",
    "\n",
    "Continue to learn about **[data leakage](https://www.kaggle.com/alexisbcook/data-leakage)**.  This is an important issue for a data scientist to understand, and it has the potential to ruin your models in subtle and dangerous ways!"
   ]
  },
  {
   "cell_type": "markdown",
   "id": "d75a7f13",
   "metadata": {
    "papermill": {
     "duration": 0.00593,
     "end_time": "2022-08-13T21:47:21.168522",
     "exception": false,
     "start_time": "2022-08-13T21:47:21.162592",
     "status": "completed"
    },
    "tags": []
   },
   "source": [
    "---\n",
    "\n",
    "\n",
    "\n",
    "\n",
    "*Have questions or comments? Visit the [course discussion forum](https://www.kaggle.com/learn/intermediate-machine-learning/discussion) to chat with other learners.*"
   ]
  }
 ],
 "metadata": {
  "kernelspec": {
   "display_name": "Python 3",
   "language": "python",
   "name": "python3"
  },
  "language_info": {
   "codemirror_mode": {
    "name": "ipython",
    "version": 3
   },
   "file_extension": ".py",
   "mimetype": "text/x-python",
   "name": "python",
   "nbconvert_exporter": "python",
   "pygments_lexer": "ipython3",
   "version": "3.7.12"
  },
  "papermill": {
   "default_parameters": {},
   "duration": 22.951353,
   "end_time": "2022-08-13T21:47:21.896797",
   "environment_variables": {},
   "exception": null,
   "input_path": "__notebook__.ipynb",
   "output_path": "__notebook__.ipynb",
   "parameters": {},
   "start_time": "2022-08-13T21:46:58.945444",
   "version": "2.3.4"
  }
 },
 "nbformat": 4,
 "nbformat_minor": 5
}
