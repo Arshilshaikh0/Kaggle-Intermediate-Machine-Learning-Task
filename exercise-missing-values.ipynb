{
 "cells": [
  {
   "cell_type": "markdown",
   "id": "1be9a98d",
   "metadata": {
    "papermill": {
     "duration": 0.009956,
     "end_time": "2022-08-13T21:44:31.806162",
     "exception": false,
     "start_time": "2022-08-13T21:44:31.796206",
     "status": "completed"
    },
    "tags": []
   },
   "source": [
    "**This notebook is an exercise in the [Intermediate Machine Learning](https://www.kaggle.com/learn/intermediate-machine-learning) course.  You can reference the tutorial at [this link](https://www.kaggle.com/alexisbcook/missing-values).**\n",
    "\n",
    "---\n"
   ]
  },
  {
   "cell_type": "markdown",
   "id": "c612520b",
   "metadata": {
    "papermill": {
     "duration": 0.008163,
     "end_time": "2022-08-13T21:44:31.823217",
     "exception": false,
     "start_time": "2022-08-13T21:44:31.815054",
     "status": "completed"
    },
    "tags": []
   },
   "source": [
    "Now it's your turn to test your new knowledge of **missing values** handling. You'll probably find it makes a big difference.\n",
    "\n",
    "# Setup\n",
    "\n",
    "The questions will give you feedback on your work. Run the following cell to set up the feedback system."
   ]
  },
  {
   "cell_type": "code",
   "execution_count": 1,
   "id": "25742dc8",
   "metadata": {
    "execution": {
     "iopub.execute_input": "2022-08-13T21:44:31.843202Z",
     "iopub.status.busy": "2022-08-13T21:44:31.842314Z",
     "iopub.status.idle": "2022-08-13T21:44:31.899348Z",
     "shell.execute_reply": "2022-08-13T21:44:31.897724Z"
    },
    "papermill": {
     "duration": 0.071101,
     "end_time": "2022-08-13T21:44:31.902973",
     "exception": false,
     "start_time": "2022-08-13T21:44:31.831872",
     "status": "completed"
    },
    "tags": []
   },
   "outputs": [
    {
     "name": "stdout",
     "output_type": "stream",
     "text": [
      "Setup Complete\n"
     ]
    }
   ],
   "source": [
    "# Set up code checking\n",
    "import os\n",
    "if not os.path.exists(\"../input/train.csv\"):\n",
    "    os.symlink(\"../input/home-data-for-ml-course/train.csv\", \"../input/train.csv\")  \n",
    "    os.symlink(\"../input/home-data-for-ml-course/test.csv\", \"../input/test.csv\") \n",
    "from learntools.core import binder\n",
    "binder.bind(globals())\n",
    "from learntools.ml_intermediate.ex2 import *\n",
    "print(\"Setup Complete\")"
   ]
  },
  {
   "cell_type": "markdown",
   "id": "1aa31fdc",
   "metadata": {
    "papermill": {
     "duration": 0.008058,
     "end_time": "2022-08-13T21:44:31.919921",
     "exception": false,
     "start_time": "2022-08-13T21:44:31.911863",
     "status": "completed"
    },
    "tags": []
   },
   "source": [
    "In this exercise, you will work with data from the [Housing Prices Competition for Kaggle Learn Users](https://www.kaggle.com/c/home-data-for-ml-course). \n",
    "\n",
    "![Ames Housing dataset image](https://i.imgur.com/lTJVG4e.png)\n",
    "\n",
    "Run the next code cell without changes to load the training and validation sets in `X_train`, `X_valid`, `y_train`, and `y_valid`.  The test set is loaded in `X_test`."
   ]
  },
  {
   "cell_type": "code",
   "execution_count": 2,
   "id": "5503eed3",
   "metadata": {
    "execution": {
     "iopub.execute_input": "2022-08-13T21:44:31.938878Z",
     "iopub.status.busy": "2022-08-13T21:44:31.938460Z",
     "iopub.status.idle": "2022-08-13T21:44:33.163698Z",
     "shell.execute_reply": "2022-08-13T21:44:33.162395Z"
    },
    "papermill": {
     "duration": 1.238139,
     "end_time": "2022-08-13T21:44:33.166448",
     "exception": false,
     "start_time": "2022-08-13T21:44:31.928309",
     "status": "completed"
    },
    "tags": []
   },
   "outputs": [],
   "source": [
    "import pandas as pd\n",
    "from sklearn.model_selection import train_test_split\n",
    "\n",
    "# Read the data\n",
    "X_full = pd.read_csv('../input/train.csv', index_col='Id')\n",
    "X_test_full = pd.read_csv('../input/test.csv', index_col='Id')\n",
    "\n",
    "# Remove rows with missing target, separate target from predictors\n",
    "X_full.dropna(axis=0, subset=['SalePrice'], inplace=True)\n",
    "y = X_full.SalePrice\n",
    "X_full.drop(['SalePrice'], axis=1, inplace=True)\n",
    "\n",
    "# To keep things simple, we'll use only numerical predictors\n",
    "X = X_full.select_dtypes(exclude=['object'])\n",
    "X_test = X_test_full.select_dtypes(exclude=['object'])\n",
    "\n",
    "# Break off validation set from training data\n",
    "X_train, X_valid, y_train, y_valid = train_test_split(X, y, train_size=0.8, test_size=0.2,\n",
    "                                                      random_state=0)"
   ]
  },
  {
   "cell_type": "markdown",
   "id": "a617a000",
   "metadata": {
    "papermill": {
     "duration": 0.008086,
     "end_time": "2022-08-13T21:44:33.183374",
     "exception": false,
     "start_time": "2022-08-13T21:44:33.175288",
     "status": "completed"
    },
    "tags": []
   },
   "source": [
    "Use the next code cell to print the first five rows of the data."
   ]
  },
  {
   "cell_type": "code",
   "execution_count": 3,
   "id": "547d56ee",
   "metadata": {
    "execution": {
     "iopub.execute_input": "2022-08-13T21:44:33.201862Z",
     "iopub.status.busy": "2022-08-13T21:44:33.201446Z",
     "iopub.status.idle": "2022-08-13T21:44:33.230576Z",
     "shell.execute_reply": "2022-08-13T21:44:33.229400Z"
    },
    "papermill": {
     "duration": 0.041456,
     "end_time": "2022-08-13T21:44:33.233240",
     "exception": false,
     "start_time": "2022-08-13T21:44:33.191784",
     "status": "completed"
    },
    "tags": []
   },
   "outputs": [
    {
     "data": {
      "text/html": [
       "<div>\n",
       "<style scoped>\n",
       "    .dataframe tbody tr th:only-of-type {\n",
       "        vertical-align: middle;\n",
       "    }\n",
       "\n",
       "    .dataframe tbody tr th {\n",
       "        vertical-align: top;\n",
       "    }\n",
       "\n",
       "    .dataframe thead th {\n",
       "        text-align: right;\n",
       "    }\n",
       "</style>\n",
       "<table border=\"1\" class=\"dataframe\">\n",
       "  <thead>\n",
       "    <tr style=\"text-align: right;\">\n",
       "      <th></th>\n",
       "      <th>MSSubClass</th>\n",
       "      <th>LotFrontage</th>\n",
       "      <th>LotArea</th>\n",
       "      <th>OverallQual</th>\n",
       "      <th>OverallCond</th>\n",
       "      <th>YearBuilt</th>\n",
       "      <th>YearRemodAdd</th>\n",
       "      <th>MasVnrArea</th>\n",
       "      <th>BsmtFinSF1</th>\n",
       "      <th>BsmtFinSF2</th>\n",
       "      <th>...</th>\n",
       "      <th>GarageArea</th>\n",
       "      <th>WoodDeckSF</th>\n",
       "      <th>OpenPorchSF</th>\n",
       "      <th>EnclosedPorch</th>\n",
       "      <th>3SsnPorch</th>\n",
       "      <th>ScreenPorch</th>\n",
       "      <th>PoolArea</th>\n",
       "      <th>MiscVal</th>\n",
       "      <th>MoSold</th>\n",
       "      <th>YrSold</th>\n",
       "    </tr>\n",
       "    <tr>\n",
       "      <th>Id</th>\n",
       "      <th></th>\n",
       "      <th></th>\n",
       "      <th></th>\n",
       "      <th></th>\n",
       "      <th></th>\n",
       "      <th></th>\n",
       "      <th></th>\n",
       "      <th></th>\n",
       "      <th></th>\n",
       "      <th></th>\n",
       "      <th></th>\n",
       "      <th></th>\n",
       "      <th></th>\n",
       "      <th></th>\n",
       "      <th></th>\n",
       "      <th></th>\n",
       "      <th></th>\n",
       "      <th></th>\n",
       "      <th></th>\n",
       "      <th></th>\n",
       "      <th></th>\n",
       "    </tr>\n",
       "  </thead>\n",
       "  <tbody>\n",
       "    <tr>\n",
       "      <th>619</th>\n",
       "      <td>20</td>\n",
       "      <td>90.0</td>\n",
       "      <td>11694</td>\n",
       "      <td>9</td>\n",
       "      <td>5</td>\n",
       "      <td>2007</td>\n",
       "      <td>2007</td>\n",
       "      <td>452.0</td>\n",
       "      <td>48</td>\n",
       "      <td>0</td>\n",
       "      <td>...</td>\n",
       "      <td>774</td>\n",
       "      <td>0</td>\n",
       "      <td>108</td>\n",
       "      <td>0</td>\n",
       "      <td>0</td>\n",
       "      <td>260</td>\n",
       "      <td>0</td>\n",
       "      <td>0</td>\n",
       "      <td>7</td>\n",
       "      <td>2007</td>\n",
       "    </tr>\n",
       "    <tr>\n",
       "      <th>871</th>\n",
       "      <td>20</td>\n",
       "      <td>60.0</td>\n",
       "      <td>6600</td>\n",
       "      <td>5</td>\n",
       "      <td>5</td>\n",
       "      <td>1962</td>\n",
       "      <td>1962</td>\n",
       "      <td>0.0</td>\n",
       "      <td>0</td>\n",
       "      <td>0</td>\n",
       "      <td>...</td>\n",
       "      <td>308</td>\n",
       "      <td>0</td>\n",
       "      <td>0</td>\n",
       "      <td>0</td>\n",
       "      <td>0</td>\n",
       "      <td>0</td>\n",
       "      <td>0</td>\n",
       "      <td>0</td>\n",
       "      <td>8</td>\n",
       "      <td>2009</td>\n",
       "    </tr>\n",
       "    <tr>\n",
       "      <th>93</th>\n",
       "      <td>30</td>\n",
       "      <td>80.0</td>\n",
       "      <td>13360</td>\n",
       "      <td>5</td>\n",
       "      <td>7</td>\n",
       "      <td>1921</td>\n",
       "      <td>2006</td>\n",
       "      <td>0.0</td>\n",
       "      <td>713</td>\n",
       "      <td>0</td>\n",
       "      <td>...</td>\n",
       "      <td>432</td>\n",
       "      <td>0</td>\n",
       "      <td>0</td>\n",
       "      <td>44</td>\n",
       "      <td>0</td>\n",
       "      <td>0</td>\n",
       "      <td>0</td>\n",
       "      <td>0</td>\n",
       "      <td>8</td>\n",
       "      <td>2009</td>\n",
       "    </tr>\n",
       "    <tr>\n",
       "      <th>818</th>\n",
       "      <td>20</td>\n",
       "      <td>NaN</td>\n",
       "      <td>13265</td>\n",
       "      <td>8</td>\n",
       "      <td>5</td>\n",
       "      <td>2002</td>\n",
       "      <td>2002</td>\n",
       "      <td>148.0</td>\n",
       "      <td>1218</td>\n",
       "      <td>0</td>\n",
       "      <td>...</td>\n",
       "      <td>857</td>\n",
       "      <td>150</td>\n",
       "      <td>59</td>\n",
       "      <td>0</td>\n",
       "      <td>0</td>\n",
       "      <td>0</td>\n",
       "      <td>0</td>\n",
       "      <td>0</td>\n",
       "      <td>7</td>\n",
       "      <td>2008</td>\n",
       "    </tr>\n",
       "    <tr>\n",
       "      <th>303</th>\n",
       "      <td>20</td>\n",
       "      <td>118.0</td>\n",
       "      <td>13704</td>\n",
       "      <td>7</td>\n",
       "      <td>5</td>\n",
       "      <td>2001</td>\n",
       "      <td>2002</td>\n",
       "      <td>150.0</td>\n",
       "      <td>0</td>\n",
       "      <td>0</td>\n",
       "      <td>...</td>\n",
       "      <td>843</td>\n",
       "      <td>468</td>\n",
       "      <td>81</td>\n",
       "      <td>0</td>\n",
       "      <td>0</td>\n",
       "      <td>0</td>\n",
       "      <td>0</td>\n",
       "      <td>0</td>\n",
       "      <td>1</td>\n",
       "      <td>2006</td>\n",
       "    </tr>\n",
       "  </tbody>\n",
       "</table>\n",
       "<p>5 rows × 36 columns</p>\n",
       "</div>"
      ],
      "text/plain": [
       "     MSSubClass  LotFrontage  LotArea  OverallQual  OverallCond  YearBuilt  \\\n",
       "Id                                                                           \n",
       "619          20         90.0    11694            9            5       2007   \n",
       "871          20         60.0     6600            5            5       1962   \n",
       "93           30         80.0    13360            5            7       1921   \n",
       "818          20          NaN    13265            8            5       2002   \n",
       "303          20        118.0    13704            7            5       2001   \n",
       "\n",
       "     YearRemodAdd  MasVnrArea  BsmtFinSF1  BsmtFinSF2  ...  GarageArea  \\\n",
       "Id                                                     ...               \n",
       "619          2007       452.0          48           0  ...         774   \n",
       "871          1962         0.0           0           0  ...         308   \n",
       "93           2006         0.0         713           0  ...         432   \n",
       "818          2002       148.0        1218           0  ...         857   \n",
       "303          2002       150.0           0           0  ...         843   \n",
       "\n",
       "     WoodDeckSF  OpenPorchSF  EnclosedPorch  3SsnPorch  ScreenPorch  PoolArea  \\\n",
       "Id                                                                              \n",
       "619           0          108              0          0          260         0   \n",
       "871           0            0              0          0            0         0   \n",
       "93            0            0             44          0            0         0   \n",
       "818         150           59              0          0            0         0   \n",
       "303         468           81              0          0            0         0   \n",
       "\n",
       "     MiscVal  MoSold  YrSold  \n",
       "Id                            \n",
       "619        0       7    2007  \n",
       "871        0       8    2009  \n",
       "93         0       8    2009  \n",
       "818        0       7    2008  \n",
       "303        0       1    2006  \n",
       "\n",
       "[5 rows x 36 columns]"
      ]
     },
     "execution_count": 3,
     "metadata": {},
     "output_type": "execute_result"
    }
   ],
   "source": [
    "X_train.head()"
   ]
  },
  {
   "cell_type": "markdown",
   "id": "ecab6c50",
   "metadata": {
    "papermill": {
     "duration": 0.008435,
     "end_time": "2022-08-13T21:44:33.251644",
     "exception": false,
     "start_time": "2022-08-13T21:44:33.243209",
     "status": "completed"
    },
    "tags": []
   },
   "source": [
    "You can already see a few missing values in the first several rows.  In the next step, you'll obtain a more comprehensive understanding of the missing values in the dataset.\n",
    "\n",
    "# Step 1: Preliminary investigation\n",
    "\n",
    "Run the code cell below without changes."
   ]
  },
  {
   "cell_type": "code",
   "execution_count": 4,
   "id": "59dd6fc3",
   "metadata": {
    "execution": {
     "iopub.execute_input": "2022-08-13T21:44:33.271529Z",
     "iopub.status.busy": "2022-08-13T21:44:33.271077Z",
     "iopub.status.idle": "2022-08-13T21:44:33.280635Z",
     "shell.execute_reply": "2022-08-13T21:44:33.279132Z"
    },
    "papermill": {
     "duration": 0.022864,
     "end_time": "2022-08-13T21:44:33.283572",
     "exception": false,
     "start_time": "2022-08-13T21:44:33.260708",
     "status": "completed"
    },
    "tags": []
   },
   "outputs": [
    {
     "name": "stdout",
     "output_type": "stream",
     "text": [
      "(1168, 36)\n",
      "LotFrontage    212\n",
      "MasVnrArea       6\n",
      "GarageYrBlt     58\n",
      "dtype: int64\n"
     ]
    }
   ],
   "source": [
    "# Shape of training data (num_rows, num_columns)\n",
    "print(X_train.shape)\n",
    "\n",
    "# Number of missing values in each column of training data\n",
    "missing_val_count_by_column = (X_train.isnull().sum())\n",
    "print(missing_val_count_by_column[missing_val_count_by_column > 0])"
   ]
  },
  {
   "cell_type": "markdown",
   "id": "69671465",
   "metadata": {
    "papermill": {
     "duration": 0.008703,
     "end_time": "2022-08-13T21:44:33.302239",
     "exception": false,
     "start_time": "2022-08-13T21:44:33.293536",
     "status": "completed"
    },
    "tags": []
   },
   "source": [
    "### Part A\n",
    "\n",
    "Use the above output to answer the questions below."
   ]
  },
  {
   "cell_type": "code",
   "execution_count": 5,
   "id": "fa804b5c",
   "metadata": {
    "execution": {
     "iopub.execute_input": "2022-08-13T21:44:33.322175Z",
     "iopub.status.busy": "2022-08-13T21:44:33.321724Z",
     "iopub.status.idle": "2022-08-13T21:44:33.332059Z",
     "shell.execute_reply": "2022-08-13T21:44:33.330718Z"
    },
    "papermill": {
     "duration": 0.023401,
     "end_time": "2022-08-13T21:44:33.334694",
     "exception": false,
     "start_time": "2022-08-13T21:44:33.311293",
     "status": "completed"
    },
    "tags": []
   },
   "outputs": [
    {
     "data": {
      "application/javascript": [
       "parent.postMessage({\"jupyterEvent\": \"custom.exercise_interaction\", \"data\": {\"outcomeType\": 1, \"valueTowardsCompletion\": 1.0, \"interactionType\": 1, \"questionType\": 1, \"questionId\": \"1.1_InvestigateEquality\", \"learnToolsVersion\": \"0.3.4\", \"failureMessage\": \"\", \"exceptionClass\": \"\", \"trace\": \"\"}}, \"*\")"
      ],
      "text/plain": [
       "<IPython.core.display.Javascript object>"
      ]
     },
     "metadata": {},
     "output_type": "display_data"
    },
    {
     "data": {
      "text/markdown": [
       "<span style=\"color:#33cc33\">Correct</span>"
      ],
      "text/plain": [
       "Correct"
      ]
     },
     "metadata": {},
     "output_type": "display_data"
    }
   ],
   "source": [
    "# Fill in the line below: How many rows are in the training data?\n",
    "num_rows = 1168\n",
    "\n",
    "# Fill in the line below: How many columns in the training data\n",
    "# have missing values?\n",
    "num_cols_with_missing = 3\n",
    "\n",
    "# Fill in the line below: How many missing entries are contained in \n",
    "# all of the training data?\n",
    "tot_missing = 212 + 6 + 58\n",
    "\n",
    "# Check your answers\n",
    "step_1.a.check()"
   ]
  },
  {
   "cell_type": "code",
   "execution_count": 6,
   "id": "5893a958",
   "metadata": {
    "execution": {
     "iopub.execute_input": "2022-08-13T21:44:33.355562Z",
     "iopub.status.busy": "2022-08-13T21:44:33.355134Z",
     "iopub.status.idle": "2022-08-13T21:44:33.359796Z",
     "shell.execute_reply": "2022-08-13T21:44:33.358412Z"
    },
    "papermill": {
     "duration": 0.018259,
     "end_time": "2022-08-13T21:44:33.362382",
     "exception": false,
     "start_time": "2022-08-13T21:44:33.344123",
     "status": "completed"
    },
    "tags": []
   },
   "outputs": [],
   "source": [
    "# Lines below will give you a hint or solution code\n",
    "#step_1.a.hint()\n",
    "#step_1.a.solution()"
   ]
  },
  {
   "cell_type": "markdown",
   "id": "97e4de98",
   "metadata": {
    "papermill": {
     "duration": 0.009117,
     "end_time": "2022-08-13T21:44:33.381199",
     "exception": false,
     "start_time": "2022-08-13T21:44:33.372082",
     "status": "completed"
    },
    "tags": []
   },
   "source": [
    "### Part B\n",
    "Considering your answers above, what do you think is likely the best approach to dealing with the missing values?"
   ]
  },
  {
   "cell_type": "code",
   "execution_count": 7,
   "id": "24616379",
   "metadata": {
    "execution": {
     "iopub.execute_input": "2022-08-13T21:44:33.402010Z",
     "iopub.status.busy": "2022-08-13T21:44:33.401525Z",
     "iopub.status.idle": "2022-08-13T21:44:33.411735Z",
     "shell.execute_reply": "2022-08-13T21:44:33.410577Z"
    },
    "papermill": {
     "duration": 0.023402,
     "end_time": "2022-08-13T21:44:33.413973",
     "exception": false,
     "start_time": "2022-08-13T21:44:33.390571",
     "status": "completed"
    },
    "tags": []
   },
   "outputs": [
    {
     "data": {
      "application/javascript": [
       "parent.postMessage({\"jupyterEvent\": \"custom.exercise_interaction\", \"data\": {\"outcomeType\": 1, \"valueTowardsCompletion\": 1.0, \"interactionType\": 1, \"questionType\": 4, \"questionId\": \"1.2_InvestigateThought\", \"learnToolsVersion\": \"0.3.4\", \"failureMessage\": \"\", \"exceptionClass\": \"\", \"trace\": \"\"}}, \"*\")"
      ],
      "text/plain": [
       "<IPython.core.display.Javascript object>"
      ]
     },
     "metadata": {},
     "output_type": "display_data"
    },
    {
     "data": {
      "text/markdown": [
       "<span style=\"color:#33cc33\">Correct:</span> \n",
       "\n",
       "Since there are relatively few missing entries in the data (the column with the greatest percentage of missing values is missing less than 20% of its entries), we can expect that dropping columns is unlikely to yield good results.  This is because we'd be throwing away a lot of valuable data, and so imputation will likely perform better."
      ],
      "text/plain": [
       "Correct: \n",
       "\n",
       "Since there are relatively few missing entries in the data (the column with the greatest percentage of missing values is missing less than 20% of its entries), we can expect that dropping columns is unlikely to yield good results.  This is because we'd be throwing away a lot of valuable data, and so imputation will likely perform better."
      ]
     },
     "metadata": {},
     "output_type": "display_data"
    }
   ],
   "source": [
    "# Check your answer (Run this code cell to receive credit!)\n",
    "step_1.b.check()"
   ]
  },
  {
   "cell_type": "code",
   "execution_count": 8,
   "id": "6be1b1e3",
   "metadata": {
    "execution": {
     "iopub.execute_input": "2022-08-13T21:44:33.434793Z",
     "iopub.status.busy": "2022-08-13T21:44:33.434331Z",
     "iopub.status.idle": "2022-08-13T21:44:33.439075Z",
     "shell.execute_reply": "2022-08-13T21:44:33.437919Z"
    },
    "papermill": {
     "duration": 0.018095,
     "end_time": "2022-08-13T21:44:33.441559",
     "exception": false,
     "start_time": "2022-08-13T21:44:33.423464",
     "status": "completed"
    },
    "tags": []
   },
   "outputs": [],
   "source": [
    "#step_1.b.hint()"
   ]
  },
  {
   "cell_type": "markdown",
   "id": "0d2900f3",
   "metadata": {
    "papermill": {
     "duration": 0.009618,
     "end_time": "2022-08-13T21:44:33.460761",
     "exception": false,
     "start_time": "2022-08-13T21:44:33.451143",
     "status": "completed"
    },
    "tags": []
   },
   "source": [
    "To compare different approaches to dealing with missing values, you'll use the same `score_dataset()` function from the tutorial.  This function reports the [mean absolute error](https://en.wikipedia.org/wiki/Mean_absolute_error) (MAE) from a random forest model."
   ]
  },
  {
   "cell_type": "code",
   "execution_count": 9,
   "id": "eccb0adf",
   "metadata": {
    "execution": {
     "iopub.execute_input": "2022-08-13T21:44:33.482084Z",
     "iopub.status.busy": "2022-08-13T21:44:33.481658Z",
     "iopub.status.idle": "2022-08-13T21:44:33.715921Z",
     "shell.execute_reply": "2022-08-13T21:44:33.714575Z"
    },
    "papermill": {
     "duration": 0.248444,
     "end_time": "2022-08-13T21:44:33.718727",
     "exception": false,
     "start_time": "2022-08-13T21:44:33.470283",
     "status": "completed"
    },
    "tags": []
   },
   "outputs": [],
   "source": [
    "from sklearn.ensemble import RandomForestRegressor\n",
    "from sklearn.metrics import mean_absolute_error\n",
    "\n",
    "# Function for comparing different approaches\n",
    "def score_dataset(X_train, X_valid, y_train, y_valid):\n",
    "    model = RandomForestRegressor(n_estimators=100, random_state=0)\n",
    "    model.fit(X_train, y_train)\n",
    "    preds = model.predict(X_valid)\n",
    "    return mean_absolute_error(y_valid, preds)"
   ]
  },
  {
   "cell_type": "markdown",
   "id": "7f5ffab9",
   "metadata": {
    "papermill": {
     "duration": 0.009172,
     "end_time": "2022-08-13T21:44:33.737740",
     "exception": false,
     "start_time": "2022-08-13T21:44:33.728568",
     "status": "completed"
    },
    "tags": []
   },
   "source": [
    "# Step 2: Drop columns with missing values\n",
    "\n",
    "In this step, you'll preprocess the data in `X_train` and `X_valid` to remove columns with missing values.  Set the preprocessed DataFrames to `reduced_X_train` and `reduced_X_valid`, respectively.  "
   ]
  },
  {
   "cell_type": "code",
   "execution_count": 10,
   "id": "9d4f5eb1",
   "metadata": {
    "execution": {
     "iopub.execute_input": "2022-08-13T21:44:33.758540Z",
     "iopub.status.busy": "2022-08-13T21:44:33.758097Z",
     "iopub.status.idle": "2022-08-13T21:44:33.795471Z",
     "shell.execute_reply": "2022-08-13T21:44:33.794353Z"
    },
    "papermill": {
     "duration": 0.050788,
     "end_time": "2022-08-13T21:44:33.797970",
     "exception": false,
     "start_time": "2022-08-13T21:44:33.747182",
     "status": "completed"
    },
    "tags": []
   },
   "outputs": [
    {
     "data": {
      "application/javascript": [
       "parent.postMessage({\"jupyterEvent\": \"custom.exercise_interaction\", \"data\": {\"outcomeType\": 1, \"valueTowardsCompletion\": 1.0, \"interactionType\": 1, \"questionType\": 2, \"questionId\": \"2_DropMissing\", \"learnToolsVersion\": \"0.3.4\", \"failureMessage\": \"\", \"exceptionClass\": \"\", \"trace\": \"\"}}, \"*\")"
      ],
      "text/plain": [
       "<IPython.core.display.Javascript object>"
      ]
     },
     "metadata": {},
     "output_type": "display_data"
    },
    {
     "data": {
      "text/markdown": [
       "<span style=\"color:#33cc33\">Correct</span>"
      ],
      "text/plain": [
       "Correct"
      ]
     },
     "metadata": {},
     "output_type": "display_data"
    }
   ],
   "source": [
    "# Fill in the line below: get names of columns with missing values\n",
    "cols_with_missing = [col for col in X_train.columns\n",
    "                     if X_train[col].isnull().any()] # Your code here\n",
    "\n",
    "# Fill in the lines below: drop columns in training and validation data\n",
    "reduced_X_train = X_train.drop(cols_with_missing, axis=1)\n",
    "reduced_X_valid = X_valid.drop(cols_with_missing, axis=1)\n",
    "\n",
    "# Check your answers\n",
    "step_2.check()"
   ]
  },
  {
   "cell_type": "code",
   "execution_count": 11,
   "id": "3c6f239d",
   "metadata": {
    "execution": {
     "iopub.execute_input": "2022-08-13T21:44:33.819542Z",
     "iopub.status.busy": "2022-08-13T21:44:33.819110Z",
     "iopub.status.idle": "2022-08-13T21:44:33.824039Z",
     "shell.execute_reply": "2022-08-13T21:44:33.822879Z"
    },
    "papermill": {
     "duration": 0.01847,
     "end_time": "2022-08-13T21:44:33.826307",
     "exception": false,
     "start_time": "2022-08-13T21:44:33.807837",
     "status": "completed"
    },
    "tags": []
   },
   "outputs": [],
   "source": [
    "# Lines below will give you a hint or solution code\n",
    "#step_2.hint()\n",
    "#step_2.solution()"
   ]
  },
  {
   "cell_type": "markdown",
   "id": "192d0347",
   "metadata": {
    "papermill": {
     "duration": 0.009454,
     "end_time": "2022-08-13T21:44:33.845494",
     "exception": false,
     "start_time": "2022-08-13T21:44:33.836040",
     "status": "completed"
    },
    "tags": []
   },
   "source": [
    "Run the next code cell without changes to obtain the MAE for this approach."
   ]
  },
  {
   "cell_type": "code",
   "execution_count": 12,
   "id": "312b12f0",
   "metadata": {
    "execution": {
     "iopub.execute_input": "2022-08-13T21:44:33.866806Z",
     "iopub.status.busy": "2022-08-13T21:44:33.866373Z",
     "iopub.status.idle": "2022-08-13T21:44:34.999742Z",
     "shell.execute_reply": "2022-08-13T21:44:34.997732Z"
    },
    "papermill": {
     "duration": 1.147085,
     "end_time": "2022-08-13T21:44:35.002355",
     "exception": false,
     "start_time": "2022-08-13T21:44:33.855270",
     "status": "completed"
    },
    "tags": []
   },
   "outputs": [
    {
     "name": "stdout",
     "output_type": "stream",
     "text": [
      "MAE (Drop columns with missing values):\n",
      "17837.82570776256\n"
     ]
    }
   ],
   "source": [
    "print(\"MAE (Drop columns with missing values):\")\n",
    "print(score_dataset(reduced_X_train, reduced_X_valid, y_train, y_valid))"
   ]
  },
  {
   "cell_type": "markdown",
   "id": "21fbb50d",
   "metadata": {
    "papermill": {
     "duration": 0.009735,
     "end_time": "2022-08-13T21:44:35.022198",
     "exception": false,
     "start_time": "2022-08-13T21:44:35.012463",
     "status": "completed"
    },
    "tags": []
   },
   "source": [
    "# Step 3: Imputation\n",
    "\n",
    "### Part A\n",
    "\n",
    "Use the next code cell to impute missing values with the mean value along each column.  Set the preprocessed DataFrames to `imputed_X_train` and `imputed_X_valid`.  Make sure that the column names match those in `X_train` and `X_valid`."
   ]
  },
  {
   "cell_type": "code",
   "execution_count": 13,
   "id": "b09ae387",
   "metadata": {
    "execution": {
     "iopub.execute_input": "2022-08-13T21:44:35.044273Z",
     "iopub.status.busy": "2022-08-13T21:44:35.043635Z",
     "iopub.status.idle": "2022-08-13T21:44:35.079894Z",
     "shell.execute_reply": "2022-08-13T21:44:35.079039Z"
    },
    "papermill": {
     "duration": 0.049813,
     "end_time": "2022-08-13T21:44:35.082020",
     "exception": false,
     "start_time": "2022-08-13T21:44:35.032207",
     "status": "completed"
    },
    "tags": []
   },
   "outputs": [
    {
     "data": {
      "application/javascript": [
       "parent.postMessage({\"jupyterEvent\": \"custom.exercise_interaction\", \"data\": {\"outcomeType\": 1, \"valueTowardsCompletion\": 1.0, \"interactionType\": 1, \"questionType\": 2, \"questionId\": \"3.1_ImputeCode\", \"learnToolsVersion\": \"0.3.4\", \"failureMessage\": \"\", \"exceptionClass\": \"\", \"trace\": \"\"}}, \"*\")"
      ],
      "text/plain": [
       "<IPython.core.display.Javascript object>"
      ]
     },
     "metadata": {},
     "output_type": "display_data"
    },
    {
     "data": {
      "text/markdown": [
       "<span style=\"color:#33cc33\">Correct</span>"
      ],
      "text/plain": [
       "Correct"
      ]
     },
     "metadata": {},
     "output_type": "display_data"
    }
   ],
   "source": [
    "from sklearn.impute import SimpleImputer\n",
    "\n",
    "# Fill in the lines below: imputation\n",
    "____ # Your code here\n",
    "my_imputer=SimpleImputer()\n",
    "\n",
    "imputed_X_train = pd.DataFrame(my_imputer.fit_transform(X_train))\n",
    "imputed_X_valid = pd.DataFrame(my_imputer.transform(X_valid))\n",
    "# Fill in the lines below: imputation removed column names; put them back\n",
    "imputed_X_train.columns = X_train.columns\n",
    "imputed_X_valid.columns = X_valid.columns\n",
    "\n",
    "# Check your answers\n",
    "step_3.a.check()"
   ]
  },
  {
   "cell_type": "code",
   "execution_count": 14,
   "id": "59210ecf",
   "metadata": {
    "execution": {
     "iopub.execute_input": "2022-08-13T21:44:35.104861Z",
     "iopub.status.busy": "2022-08-13T21:44:35.104180Z",
     "iopub.status.idle": "2022-08-13T21:44:35.108116Z",
     "shell.execute_reply": "2022-08-13T21:44:35.107181Z"
    },
    "papermill": {
     "duration": 0.017888,
     "end_time": "2022-08-13T21:44:35.110287",
     "exception": false,
     "start_time": "2022-08-13T21:44:35.092399",
     "status": "completed"
    },
    "tags": []
   },
   "outputs": [],
   "source": [
    "# Lines below will give you a hint or solution code\n",
    "#step_3.a.hint()\n",
    "#step_3.a.solution()"
   ]
  },
  {
   "cell_type": "markdown",
   "id": "7d3e0ab2",
   "metadata": {
    "papermill": {
     "duration": 0.01032,
     "end_time": "2022-08-13T21:44:35.130947",
     "exception": false,
     "start_time": "2022-08-13T21:44:35.120627",
     "status": "completed"
    },
    "tags": []
   },
   "source": [
    "Run the next code cell without changes to obtain the MAE for this approach."
   ]
  },
  {
   "cell_type": "code",
   "execution_count": 15,
   "id": "473e19ad",
   "metadata": {
    "execution": {
     "iopub.execute_input": "2022-08-13T21:44:35.154474Z",
     "iopub.status.busy": "2022-08-13T21:44:35.153837Z",
     "iopub.status.idle": "2022-08-13T21:44:36.402528Z",
     "shell.execute_reply": "2022-08-13T21:44:36.401295Z"
    },
    "papermill": {
     "duration": 1.263233,
     "end_time": "2022-08-13T21:44:36.405028",
     "exception": false,
     "start_time": "2022-08-13T21:44:35.141795",
     "status": "completed"
    },
    "tags": []
   },
   "outputs": [
    {
     "name": "stdout",
     "output_type": "stream",
     "text": [
      "MAE (Imputation):\n",
      "18062.894611872147\n"
     ]
    }
   ],
   "source": [
    "print(\"MAE (Imputation):\")\n",
    "print(score_dataset(imputed_X_train, imputed_X_valid, y_train, y_valid))"
   ]
  },
  {
   "cell_type": "markdown",
   "id": "e93b9528",
   "metadata": {
    "papermill": {
     "duration": 0.009929,
     "end_time": "2022-08-13T21:44:36.425508",
     "exception": false,
     "start_time": "2022-08-13T21:44:36.415579",
     "status": "completed"
    },
    "tags": []
   },
   "source": [
    "### Part B\n",
    "\n",
    "Compare the MAE from each approach.  Does anything surprise you about the results?  Why do you think one approach performed better than the other?"
   ]
  },
  {
   "cell_type": "code",
   "execution_count": 16,
   "id": "6e4be286",
   "metadata": {
    "execution": {
     "iopub.execute_input": "2022-08-13T21:44:36.448010Z",
     "iopub.status.busy": "2022-08-13T21:44:36.447538Z",
     "iopub.status.idle": "2022-08-13T21:44:36.456784Z",
     "shell.execute_reply": "2022-08-13T21:44:36.455583Z"
    },
    "papermill": {
     "duration": 0.023143,
     "end_time": "2022-08-13T21:44:36.459035",
     "exception": false,
     "start_time": "2022-08-13T21:44:36.435892",
     "status": "completed"
    },
    "tags": []
   },
   "outputs": [
    {
     "data": {
      "application/javascript": [
       "parent.postMessage({\"jupyterEvent\": \"custom.exercise_interaction\", \"data\": {\"outcomeType\": 1, \"valueTowardsCompletion\": 1.0, \"interactionType\": 1, \"questionType\": 4, \"questionId\": \"3.2_ImputeThought\", \"learnToolsVersion\": \"0.3.4\", \"failureMessage\": \"\", \"exceptionClass\": \"\", \"trace\": \"\"}}, \"*\")"
      ],
      "text/plain": [
       "<IPython.core.display.Javascript object>"
      ]
     },
     "metadata": {},
     "output_type": "display_data"
    },
    {
     "data": {
      "text/markdown": [
       "<span style=\"color:#33cc33\">Correct:</span> \n",
       "\n",
       "Given that thre are so few missing values in the dataset, we'd expect imputation to perform better than dropping columns entirely.  However, we see that dropping columns performs slightly better!  While this can probably partially be attributed to noise in the dataset, another potential explanation is that the imputation method is not a great match to this dataset.  That is, maybe instead of filling in the mean value, it makes more sense to set every missing value to a value of 0, to fill in the most frequently encountered value, or to use some other method.  For instance, consider the `GarageYrBlt` column (which indicates the year that the garage was built).  It's likely that in some cases, a missing value could indicate a house that does not have a garage.  Does it make more sense to fill in the median value along each column in this case?  Or could we get better results by filling in the minimum value along each column?  It's not quite clear what's best in this case, but perhaps we can rule out some options immediately - for instance, setting missing values in this column to 0 is likely to yield horrible results!"
      ],
      "text/plain": [
       "Correct: \n",
       "\n",
       "Given that thre are so few missing values in the dataset, we'd expect imputation to perform better than dropping columns entirely.  However, we see that dropping columns performs slightly better!  While this can probably partially be attributed to noise in the dataset, another potential explanation is that the imputation method is not a great match to this dataset.  That is, maybe instead of filling in the mean value, it makes more sense to set every missing value to a value of 0, to fill in the most frequently encountered value, or to use some other method.  For instance, consider the `GarageYrBlt` column (which indicates the year that the garage was built).  It's likely that in some cases, a missing value could indicate a house that does not have a garage.  Does it make more sense to fill in the median value along each column in this case?  Or could we get better results by filling in the minimum value along each column?  It's not quite clear what's best in this case, but perhaps we can rule out some options immediately - for instance, setting missing values in this column to 0 is likely to yield horrible results!"
      ]
     },
     "metadata": {},
     "output_type": "display_data"
    }
   ],
   "source": [
    "# Check your answer (Run this code cell to receive credit!)\n",
    "step_3.b.check()"
   ]
  },
  {
   "cell_type": "code",
   "execution_count": 17,
   "id": "b82a5fe0",
   "metadata": {
    "execution": {
     "iopub.execute_input": "2022-08-13T21:44:36.482069Z",
     "iopub.status.busy": "2022-08-13T21:44:36.481627Z",
     "iopub.status.idle": "2022-08-13T21:44:36.486536Z",
     "shell.execute_reply": "2022-08-13T21:44:36.485457Z"
    },
    "papermill": {
     "duration": 0.019025,
     "end_time": "2022-08-13T21:44:36.488856",
     "exception": false,
     "start_time": "2022-08-13T21:44:36.469831",
     "status": "completed"
    },
    "tags": []
   },
   "outputs": [],
   "source": [
    "#step_3.b.hint()"
   ]
  },
  {
   "cell_type": "markdown",
   "id": "67ae8819",
   "metadata": {
    "papermill": {
     "duration": 0.010287,
     "end_time": "2022-08-13T21:44:36.510177",
     "exception": false,
     "start_time": "2022-08-13T21:44:36.499890",
     "status": "completed"
    },
    "tags": []
   },
   "source": [
    "# Step 4: Generate test predictions\n",
    "\n",
    "In this final step, you'll use any approach of your choosing to deal with missing values.  Once you've preprocessed the training and validation features, you'll train and evaluate a random forest model.  Then, you'll preprocess the test data before generating predictions that can be submitted to the competition!\n",
    "\n",
    "### Part A\n",
    "\n",
    "Use the next code cell to preprocess the training and validation data.  Set the preprocessed DataFrames to `final_X_train` and `final_X_valid`.  **You can use any approach of your choosing here!**  in order for this step to be marked as correct, you need only ensure:\n",
    "- the preprocessed DataFrames have the same number of columns,\n",
    "- the preprocessed DataFrames have no missing values, \n",
    "- `final_X_train` and `y_train` have the same number of rows, and\n",
    "- `final_X_valid` and `y_valid` have the same number of rows."
   ]
  },
  {
   "cell_type": "code",
   "execution_count": 18,
   "id": "ea4d0d24",
   "metadata": {
    "execution": {
     "iopub.execute_input": "2022-08-13T21:44:36.533764Z",
     "iopub.status.busy": "2022-08-13T21:44:36.533306Z",
     "iopub.status.idle": "2022-08-13T21:44:36.570243Z",
     "shell.execute_reply": "2022-08-13T21:44:36.569007Z"
    },
    "papermill": {
     "duration": 0.051794,
     "end_time": "2022-08-13T21:44:36.573009",
     "exception": false,
     "start_time": "2022-08-13T21:44:36.521215",
     "status": "completed"
    },
    "tags": []
   },
   "outputs": [
    {
     "data": {
      "application/javascript": [
       "parent.postMessage({\"jupyterEvent\": \"custom.exercise_interaction\", \"data\": {\"outcomeType\": 1, \"valueTowardsCompletion\": 1.0, \"interactionType\": 1, \"questionType\": 2, \"questionId\": \"4.1_PredsCodeA\", \"learnToolsVersion\": \"0.3.4\", \"failureMessage\": \"\", \"exceptionClass\": \"\", \"trace\": \"\"}}, \"*\")"
      ],
      "text/plain": [
       "<IPython.core.display.Javascript object>"
      ]
     },
     "metadata": {},
     "output_type": "display_data"
    },
    {
     "data": {
      "text/markdown": [
       "<span style=\"color:#33cc33\">Correct</span>"
      ],
      "text/plain": [
       "Correct"
      ]
     },
     "metadata": {},
     "output_type": "display_data"
    }
   ],
   "source": [
    "# Preprocessed training and validation features\n",
    "final_imputer = SimpleImputer(strategy='median')\n",
    "final_X_train = pd.DataFrame(final_imputer.fit_transform(X_train))\n",
    "final_X_valid = pd.DataFrame(final_imputer.transform(X_valid))\n",
    "\n",
    "final_X_train.columns = X_train.columns\n",
    "final_X_valid.columns = X_valid.columns\n",
    "\n",
    "# Check your answers\n",
    "step_4.a.check()"
   ]
  },
  {
   "cell_type": "code",
   "execution_count": 19,
   "id": "4e744994",
   "metadata": {
    "execution": {
     "iopub.execute_input": "2022-08-13T21:44:36.597329Z",
     "iopub.status.busy": "2022-08-13T21:44:36.596524Z",
     "iopub.status.idle": "2022-08-13T21:44:36.601272Z",
     "shell.execute_reply": "2022-08-13T21:44:36.600223Z"
    },
    "papermill": {
     "duration": 0.019638,
     "end_time": "2022-08-13T21:44:36.603728",
     "exception": false,
     "start_time": "2022-08-13T21:44:36.584090",
     "status": "completed"
    },
    "tags": []
   },
   "outputs": [],
   "source": [
    "# Lines below will give you a hint or solution code\n",
    "#step_4.a.hint()\n",
    "#step_4.a.solution()"
   ]
  },
  {
   "cell_type": "markdown",
   "id": "170c5c61",
   "metadata": {
    "papermill": {
     "duration": 0.010606,
     "end_time": "2022-08-13T21:44:36.625530",
     "exception": false,
     "start_time": "2022-08-13T21:44:36.614924",
     "status": "completed"
    },
    "tags": []
   },
   "source": [
    "Run the next code cell to train and evaluate a random forest model.  (*Note that we don't use the `score_dataset()` function above, because we will soon use the trained model to generate test predictions!*)"
   ]
  },
  {
   "cell_type": "code",
   "execution_count": 20,
   "id": "eeefb00d",
   "metadata": {
    "execution": {
     "iopub.execute_input": "2022-08-13T21:44:36.649620Z",
     "iopub.status.busy": "2022-08-13T21:44:36.649218Z",
     "iopub.status.idle": "2022-08-13T21:44:37.890742Z",
     "shell.execute_reply": "2022-08-13T21:44:37.889377Z"
    },
    "papermill": {
     "duration": 1.256713,
     "end_time": "2022-08-13T21:44:37.893265",
     "exception": false,
     "start_time": "2022-08-13T21:44:36.636552",
     "status": "completed"
    },
    "tags": []
   },
   "outputs": [
    {
     "name": "stdout",
     "output_type": "stream",
     "text": [
      "MAE (Your approach):\n",
      "17791.59899543379\n"
     ]
    }
   ],
   "source": [
    "# Define and fit model\n",
    "model = RandomForestRegressor(n_estimators=100, random_state=0)\n",
    "model.fit(final_X_train, y_train)\n",
    "\n",
    "# Get validation predictions and MAE\n",
    "preds_valid = model.predict(final_X_valid)\n",
    "print(\"MAE (Your approach):\")\n",
    "print(mean_absolute_error(y_valid, preds_valid))"
   ]
  },
  {
   "cell_type": "markdown",
   "id": "0e8a80cd",
   "metadata": {
    "papermill": {
     "duration": 0.011084,
     "end_time": "2022-08-13T21:44:37.915769",
     "exception": false,
     "start_time": "2022-08-13T21:44:37.904685",
     "status": "completed"
    },
    "tags": []
   },
   "source": [
    "### Part B\n",
    "\n",
    "Use the next code cell to preprocess your test data.  Make sure that you use a method that agrees with how you preprocessed the training and validation data, and set the preprocessed test features to `final_X_test`.\n",
    "\n",
    "Then, use the preprocessed test features and the trained model to generate test predictions in `preds_test`.\n",
    "\n",
    "In order for this step to be marked correct, you need only ensure:\n",
    "- the preprocessed test DataFrame has no missing values, and\n",
    "- `final_X_test` has the same number of rows as `X_test`."
   ]
  },
  {
   "cell_type": "code",
   "execution_count": 21,
   "id": "354e3b34",
   "metadata": {
    "execution": {
     "iopub.execute_input": "2022-08-13T21:44:37.939870Z",
     "iopub.status.busy": "2022-08-13T21:44:37.939391Z",
     "iopub.status.idle": "2022-08-13T21:44:38.002610Z",
     "shell.execute_reply": "2022-08-13T21:44:38.001440Z"
    },
    "papermill": {
     "duration": 0.078363,
     "end_time": "2022-08-13T21:44:38.005193",
     "exception": false,
     "start_time": "2022-08-13T21:44:37.926830",
     "status": "completed"
    },
    "tags": []
   },
   "outputs": [
    {
     "name": "stderr",
     "output_type": "stream",
     "text": [
      "/opt/conda/lib/python3.7/site-packages/sklearn/base.py:451: UserWarning: X does not have valid feature names, but RandomForestRegressor was fitted with feature names\n",
      "  \"X does not have valid feature names, but\"\n"
     ]
    },
    {
     "data": {
      "application/javascript": [
       "parent.postMessage({\"jupyterEvent\": \"custom.exercise_interaction\", \"data\": {\"outcomeType\": 1, \"valueTowardsCompletion\": 1.0, \"interactionType\": 1, \"questionType\": 2, \"questionId\": \"4.2_PredsCodeB\", \"learnToolsVersion\": \"0.3.4\", \"failureMessage\": \"\", \"exceptionClass\": \"\", \"trace\": \"\"}}, \"*\")"
      ],
      "text/plain": [
       "<IPython.core.display.Javascript object>"
      ]
     },
     "metadata": {},
     "output_type": "display_data"
    },
    {
     "data": {
      "text/markdown": [
       "<span style=\"color:#33cc33\">Correct</span>"
      ],
      "text/plain": [
       "Correct"
      ]
     },
     "metadata": {},
     "output_type": "display_data"
    }
   ],
   "source": [
    "# Fill in the line below: preprocess test data\n",
    "final_X_test = pd.DataFrame(final_imputer.transform(X_test))\n",
    "\n",
    "# Fill in the line below: get test predictions\n",
    "preds_test = model.predict(final_X_test)\n",
    "\n",
    "# Check your answers\n",
    "step_4.b.check()"
   ]
  },
  {
   "cell_type": "code",
   "execution_count": 22,
   "id": "e6b19c5d",
   "metadata": {
    "execution": {
     "iopub.execute_input": "2022-08-13T21:44:38.030872Z",
     "iopub.status.busy": "2022-08-13T21:44:38.029822Z",
     "iopub.status.idle": "2022-08-13T21:44:38.034014Z",
     "shell.execute_reply": "2022-08-13T21:44:38.033155Z"
    },
    "papermill": {
     "duration": 0.019254,
     "end_time": "2022-08-13T21:44:38.036238",
     "exception": false,
     "start_time": "2022-08-13T21:44:38.016984",
     "status": "completed"
    },
    "tags": []
   },
   "outputs": [],
   "source": [
    "# Lines below will give you a hint or solution code\n",
    "#step_4.b.hint()\n",
    "#step_4.b.solution()"
   ]
  },
  {
   "cell_type": "markdown",
   "id": "17dca45f",
   "metadata": {
    "papermill": {
     "duration": 0.01094,
     "end_time": "2022-08-13T21:44:38.058579",
     "exception": false,
     "start_time": "2022-08-13T21:44:38.047639",
     "status": "completed"
    },
    "tags": []
   },
   "source": [
    "Run the next code cell without changes to save your results to a CSV file that can be submitted directly to the competition."
   ]
  },
  {
   "cell_type": "code",
   "execution_count": 23,
   "id": "246978be",
   "metadata": {
    "execution": {
     "iopub.execute_input": "2022-08-13T21:44:38.083293Z",
     "iopub.status.busy": "2022-08-13T21:44:38.082912Z",
     "iopub.status.idle": "2022-08-13T21:44:38.093814Z",
     "shell.execute_reply": "2022-08-13T21:44:38.092784Z"
    },
    "papermill": {
     "duration": 0.026369,
     "end_time": "2022-08-13T21:44:38.096322",
     "exception": false,
     "start_time": "2022-08-13T21:44:38.069953",
     "status": "completed"
    },
    "tags": []
   },
   "outputs": [],
   "source": [
    "# Save test predictions to file\n",
    "output = pd.DataFrame({'Id': X_test.index,\n",
    "                       'SalePrice': preds_test})\n",
    "output.to_csv('submission.csv', index=False)"
   ]
  },
  {
   "cell_type": "markdown",
   "id": "62477608",
   "metadata": {
    "papermill": {
     "duration": 0.010998,
     "end_time": "2022-08-13T21:44:38.118830",
     "exception": false,
     "start_time": "2022-08-13T21:44:38.107832",
     "status": "completed"
    },
    "tags": []
   },
   "source": [
    "# Submit your results\n",
    "\n",
    "Once you have successfully completed Step 4, you're ready to submit your results to the leaderboard!  (_You also learned how to do this in the previous exercise.  If you need a reminder of how to do this, please use the instructions below._)  \n",
    "\n",
    "First, you'll need to join the competition if you haven't already.  So open a new window by clicking on [this link](https://www.kaggle.com/c/home-data-for-ml-course).  Then click on the **Join Competition** button.\n",
    "\n",
    "![join competition image](https://i.imgur.com/wLmFtH3.png)\n",
    "\n",
    "Next, follow the instructions below:\n",
    "1. Begin by clicking on the **Save Version** button in the top right corner of the window.  This will generate a pop-up window.  \n",
    "2. Ensure that the **Save and Run All** option is selected, and then click on the **Save** button.\n",
    "3. This generates a window in the bottom left corner of the notebook.  After it has finished running, click on the number to the right of the **Save Version** button.  This pulls up a list of versions on the right of the screen.  Click on the ellipsis **(...)** to the right of the most recent version, and select **Open in Viewer**.  This brings you into view mode of the same page. You will need to scroll down to get back to these instructions.\n",
    "4. Click on the **Output** tab on the right of the screen.  Then, click on the file you would like to submit, and click on the **Submit** button to submit your results to the leaderboard.\n",
    "\n",
    "You have now successfully submitted to the competition!\n",
    "\n",
    "If you want to keep working to improve your performance, select the **Edit** button in the top right of the screen. Then you can change your code and repeat the process. There's a lot of room to improve, and you will climb up the leaderboard as you work.\n",
    "\n",
    "\n",
    "# Keep going\n",
    "\n",
    "Move on to learn what **[categorical variables](https://www.kaggle.com/alexisbcook/categorical-variables)** are, along with how to incorporate them into your machine learning models.  Categorical variables are very common in real-world data, but you'll get an error if you try to plug them into your models without processing them first!"
   ]
  },
  {
   "cell_type": "markdown",
   "id": "7c8c340a",
   "metadata": {
    "papermill": {
     "duration": 0.011028,
     "end_time": "2022-08-13T21:44:38.141080",
     "exception": false,
     "start_time": "2022-08-13T21:44:38.130052",
     "status": "completed"
    },
    "tags": []
   },
   "source": [
    "---\n",
    "\n",
    "\n",
    "\n",
    "\n",
    "*Have questions or comments? Visit the [course discussion forum](https://www.kaggle.com/learn/intermediate-machine-learning/discussion) to chat with other learners.*"
   ]
  }
 ],
 "metadata": {
  "kernelspec": {
   "display_name": "Python 3",
   "language": "python",
   "name": "python3"
  },
  "language_info": {
   "codemirror_mode": {
    "name": "ipython",
    "version": 3
   },
   "file_extension": ".py",
   "mimetype": "text/x-python",
   "name": "python",
   "nbconvert_exporter": "python",
   "pygments_lexer": "ipython3",
   "version": "3.7.12"
  },
  "papermill": {
   "default_parameters": {},
   "duration": 17.245843,
   "end_time": "2022-08-13T21:44:38.975340",
   "environment_variables": {},
   "exception": null,
   "input_path": "__notebook__.ipynb",
   "output_path": "__notebook__.ipynb",
   "parameters": {},
   "start_time": "2022-08-13T21:44:21.729497",
   "version": "2.3.4"
  }
 },
 "nbformat": 4,
 "nbformat_minor": 5
}
